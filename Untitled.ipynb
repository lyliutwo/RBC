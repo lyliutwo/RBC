{
 "cells": [
  {
   "cell_type": "code",
   "execution_count": 2,
   "metadata": {},
   "outputs": [],
   "source": [
    "import numpy as np\n",
    "\n",
    "from rubik_cube import corner, edge, rubik_cube\n",
    "import rewards"
   ]
  },
  {
   "cell_type": "code",
   "execution_count": 3,
   "metadata": {},
   "outputs": [
    {
     "name": "stdout",
     "output_type": "stream",
     "text": [
      "L1  U3  D1  F2  L2  F1  U3  L2  D2  D2   \n"
     ]
    }
   ],
   "source": [
    "cube1 = rubik_cube(id=1, random=True, random_step=10)"
   ]
  },
  {
   "cell_type": "code",
   "execution_count": 4,
   "metadata": {},
   "outputs": [
    {
     "name": "stdout",
     "output_type": "stream",
     "text": [
      "        BGO\n",
      "        GGY\n",
      "        RBO\n",
      "OOG YOG WBW BRY\n",
      "OYW RRY RWW OOY\n",
      "YWW RGY RRR WWG\n",
      "        GYB\n",
      "        GBB\n",
      "        OBB\n"
     ]
    }
   ],
   "source": [
    "cube1.visualize()"
   ]
  },
  {
   "cell_type": "code",
   "execution_count": 5,
   "metadata": {},
   "outputs": [],
   "source": [
    "rewards.make_corner_distance()\n",
    "rewards.make_edge_distance()"
   ]
  },
  {
   "cell_type": "code",
   "execution_count": 6,
   "metadata": {},
   "outputs": [
    {
     "data": {
      "text/plain": [
       "array([[0., 1., 1., 1., 2., 1., 2., 1.],\n",
       "       [1., 0., 1., 1., 1., 2., 1., 2.],\n",
       "       [1., 1., 0., 1., 2., 1., 2., 1.],\n",
       "       [1., 1., 1., 0., 1., 2., 1., 2.],\n",
       "       [2., 1., 2., 1., 0., 1., 1., 1.],\n",
       "       [1., 2., 1., 2., 1., 0., 1., 1.],\n",
       "       [2., 1., 2., 1., 1., 1., 0., 1.],\n",
       "       [1., 2., 1., 2., 1., 1., 1., 0.]])"
      ]
     },
     "execution_count": 6,
     "metadata": {},
     "output_type": "execute_result"
    }
   ],
   "source": [
    "rewards.corner_distance[:8, :8]"
   ]
  },
  {
   "cell_type": "code",
   "execution_count": null,
   "metadata": {
    "scrolled": true
   },
   "outputs": [],
   "source": []
  },
  {
   "cell_type": "code",
   "execution_count": 8,
   "metadata": {},
   "outputs": [
    {
     "name": "stdout",
     "output_type": "stream",
     "text": [
      "        GGY\n",
      "        GGR\n",
      "        GOY\n",
      "OYR WGR GGG OWW\n",
      "YYY RRR WWW OOO\n",
      "YYY RRR WWW OOO\n",
      "        BBB\n",
      "        BBB\n",
      "        BBB\n"
     ]
    },
    {
     "data": {
      "text/plain": [
       "2032.0"
      ]
     },
     "execution_count": 8,
     "metadata": {},
     "output_type": "execute_result"
    }
   ],
   "source": [
    "cube2 = rubik_cube(id = 2)\n",
    "opts = [[\"F\", 1], [\"R\", 1], [\"U\", 1], [\"R\", 3], [\"U\", 3], [\"F\", 3]]\n",
    "for opt, stride in opts:\n",
    "    cube2.remote(opt=opt, stride=stride)\n",
    "    \n",
    "cube2.visualize()\n",
    "rewards.naive_reward(cube2)"
   ]
  },
  {
   "cell_type": "code",
   "execution_count": 9,
   "metadata": {},
   "outputs": [
    {
     "name": "stdout",
     "output_type": "stream",
     "text": [
      "        GGG\n",
      "        GGG\n",
      "        GGG\n",
      "YRY RWR WYW OOO\n",
      "YYY RRR WWW OOO\n",
      "YYY RRR WWW OOO\n",
      "        BBB\n",
      "        BBB\n",
      "        BBB\n"
     ]
    },
    {
     "data": {
      "text/plain": [
       "2368.0"
      ]
     },
     "execution_count": 9,
     "metadata": {},
     "output_type": "execute_result"
    }
   ],
   "source": [
    "cube3 = rubik_cube(id = 3)\n",
    "opts = [[\"R\", 2], [\"U\", 1], [\"R\", 1], [\"U\", 1], [\"R\", 3], [\"U\", 3], [\"R\", 3], [\"U\", 3], [\"R\", 3], [\"U\", 1], [\"R\",3]]\n",
    "for opt, stride in opts:\n",
    "    cube3.remote(opt=opt, stride=stride)\n",
    "    \n",
    "cube3.visualize()\n",
    "rewards.naive_reward(cube3)"
   ]
  },
  {
   "cell_type": "code",
   "execution_count": 10,
   "metadata": {},
   "outputs": [
    {
     "name": "stdout",
     "output_type": "stream",
     "text": [
      "        GGG\n",
      "        GGO\n",
      "        YGO\n",
      "YYR GRG WGR WWO\n",
      "YYY RRW RWW OOO\n",
      "YYY RRR WWW OOO\n",
      "        BBB\n",
      "        BBB\n",
      "        BBB\n"
     ]
    },
    {
     "data": {
      "text/plain": [
       "2064.0"
      ]
     },
     "execution_count": 10,
     "metadata": {},
     "output_type": "execute_result"
    }
   ],
   "source": [
    "cube4 = rubik_cube(id=4)\n",
    "opts = [[\"R\", 1], [\"U\", 2], [\"R\", 3], [\"U\", 1], [\"R\", 1], [\"U\", 2], [\"R\", 3], [\"U\", 1], [\"F\", 3], [\"U\", 3], [\"F\", 1]]\n",
    "for opt, stride in opts:\n",
    "    cube4.remote(opt=opt, stride=stride)\n",
    "    \n",
    "cube4.visualize()\n",
    "rewards.naive_reward(cube4)"
   ]
  },
  {
   "cell_type": "code",
   "execution_count": null,
   "metadata": {},
   "outputs": [],
   "source": []
  }
 ],
 "metadata": {
  "kernelspec": {
   "display_name": "Python 3",
   "language": "python",
   "name": "python3"
  },
  "language_info": {
   "codemirror_mode": {
    "name": "ipython",
    "version": 3
   },
   "file_extension": ".py",
   "mimetype": "text/x-python",
   "name": "python",
   "nbconvert_exporter": "python",
   "pygments_lexer": "ipython3",
   "version": "3.7.1"
  }
 },
 "nbformat": 4,
 "nbformat_minor": 2
}
