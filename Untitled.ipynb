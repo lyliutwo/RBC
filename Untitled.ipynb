{
 "cells": [
  {
   "cell_type": "code",
   "execution_count": 1,
   "metadata": {},
   "outputs": [],
   "source": [
    "import numpy as np\n",
    "\n",
    "from rubic_cube import corner, edge, rubik_cube\n",
    "import loss"
   ]
  },
  {
   "cell_type": "code",
   "execution_count": 2,
   "metadata": {},
   "outputs": [
    {
     "name": "stdout",
     "output_type": "stream",
     "text": [
      "D2  U3  B1  L2  D1  F1  F2  D3  U3  R3   \n"
     ]
    }
   ],
   "source": [
    "cube1 = rubik_cube(id=1, random=True, random_step=10)"
   ]
  },
  {
   "cell_type": "code",
   "execution_count": 3,
   "metadata": {},
   "outputs": [
    {
     "name": "stdout",
     "output_type": "stream",
     "text": [
      "        YGR\n",
      "        WGR\n",
      "        BBR\n",
      "ROO WWW GBB WRB\n",
      "YYG YRW RWY BOR\n",
      "WWO GOR YGY BOO\n",
      "        YBG\n",
      "        GBO\n",
      "        GYO\n"
     ]
    }
   ],
   "source": [
    "cube1.visualize()"
   ]
  },
  {
   "cell_type": "code",
   "execution_count": 4,
   "metadata": {},
   "outputs": [],
   "source": [
    "loss.make_corner_distance()\n",
    "loss.make_edge_distance()"
   ]
  },
  {
   "cell_type": "code",
   "execution_count": 5,
   "metadata": {},
   "outputs": [
    {
     "data": {
      "text/plain": [
       "array([[0., 1., 1., 1., 2., 1., 2., 1.],\n",
       "       [1., 0., 1., 1., 1., 2., 1., 2.],\n",
       "       [1., 1., 0., 1., 2., 1., 2., 1.],\n",
       "       [1., 1., 1., 0., 1., 2., 1., 2.],\n",
       "       [2., 1., 2., 1., 0., 1., 1., 1.],\n",
       "       [1., 2., 1., 2., 1., 0., 1., 1.],\n",
       "       [2., 1., 2., 1., 1., 1., 0., 1.],\n",
       "       [1., 2., 1., 2., 1., 1., 1., 0.]])"
      ]
     },
     "execution_count": 5,
     "metadata": {},
     "output_type": "execute_result"
    }
   ],
   "source": [
    "loss.corner_distance[:8, :8]"
   ]
  },
  {
   "cell_type": "code",
   "execution_count": 6,
   "metadata": {},
   "outputs": [
    {
     "data": {
      "text/plain": [
       "array([[0., 1., 1., 1., 1., 2., 2., 2., 1., 1., 2., 2., 3., 2., 3., 2.,\n",
       "        3., 2., 3., 2., 2., 2., 2., 2.],\n",
       "       [1., 0., 1., 1., 2., 1., 2., 2., 2., 2., 2., 2., 2., 3., 2., 3.,\n",
       "        2., 3., 2., 3., 2., 1., 1., 2.],\n",
       "       [1., 1., 0., 1., 2., 2., 1., 2., 2., 2., 1., 1., 3., 2., 3., 2.,\n",
       "        3., 2., 3., 2., 2., 2., 2., 2.],\n",
       "       [1., 1., 1., 0., 2., 2., 2., 1., 2., 2., 2., 2., 2., 3., 2., 3.,\n",
       "        2., 3., 2., 3., 1., 2., 2., 1.],\n",
       "       [1., 2., 2., 2., 0., 1., 1., 1., 1., 1., 2., 2., 3., 2., 3., 2.,\n",
       "        3., 2., 3., 2., 2., 2., 2., 2.],\n",
       "       [2., 1., 2., 2., 1., 0., 1., 1., 2., 2., 2., 2., 2., 3., 2., 3.,\n",
       "        2., 3., 2., 3., 2., 1., 1., 2.],\n",
       "       [2., 2., 1., 2., 1., 1., 0., 1., 2., 2., 1., 1., 3., 2., 3., 2.,\n",
       "        3., 2., 3., 2., 2., 2., 2., 2.],\n",
       "       [2., 2., 2., 1., 1., 1., 1., 0., 2., 2., 2., 2., 2., 3., 2., 3.,\n",
       "        2., 3., 2., 3., 1., 2., 2., 1.],\n",
       "       [1., 2., 2., 2., 1., 2., 2., 2., 0., 1., 2., 1., 2., 2., 2., 1.,\n",
       "        2., 2., 2., 1., 3., 3., 3., 3.],\n",
       "       [2., 1., 2., 2., 2., 1., 2., 2., 1., 0., 1., 2., 1., 2., 2., 2.,\n",
       "        1., 2., 2., 2., 3., 3., 3., 3.],\n",
       "       [2., 2., 1., 2., 2., 2., 1., 2., 2., 1., 0., 1., 2., 1., 2., 2.,\n",
       "        2., 1., 2., 2., 3., 3., 3., 3.],\n",
       "       [2., 2., 2., 1., 2., 2., 2., 1., 1., 2., 1., 0., 2., 2., 1., 2.,\n",
       "        2., 2., 1., 2., 3., 3., 3., 3.]])"
      ]
     },
     "execution_count": 6,
     "metadata": {},
     "output_type": "execute_result"
    }
   ],
   "source": [
    "loss.edge_distance[:12, ]"
   ]
  },
  {
   "cell_type": "code",
   "execution_count": 7,
   "metadata": {},
   "outputs": [
    {
     "name": "stdout",
     "output_type": "stream",
     "text": [
      "        GGY\n",
      "        GGR\n",
      "        GOY\n",
      "OYR WGR GGG OWW\n",
      "YYY RRR WWW OOO\n",
      "YYY RRR WWW OOO\n",
      "        BBB\n",
      "        BBB\n",
      "        BBB\n",
      "corner0 1.0\n",
      "corner1 1.0\n",
      "corner2 1.0\n",
      "corner3 1.0\n",
      "edge0 1.0\n",
      "edge1 3.0\n",
      "edge3 2.0\n"
     ]
    },
    {
     "data": {
      "text/plain": [
       "10.0"
      ]
     },
     "execution_count": 7,
     "metadata": {},
     "output_type": "execute_result"
    }
   ],
   "source": [
    "cube2 = rubik_cube(id = 2)\n",
    "opts = [[\"F\", 1], [\"R\", 1], [\"U\", 1], [\"R\", 3], [\"U\", 3], [\"F\", 3]]\n",
    "for opt, stride in opts:\n",
    "    cube2.remote(opt=opt, stride=stride)\n",
    "    \n",
    "cube2.visualize()\n",
    "loss.naive_loss(cube2)"
   ]
  },
  {
   "cell_type": "code",
   "execution_count": 8,
   "metadata": {},
   "outputs": [
    {
     "name": "stdout",
     "output_type": "stream",
     "text": [
      "        GGG\n",
      "        GGG\n",
      "        GGG\n",
      "YRY RWR WYW OOO\n",
      "YYY RRR WWW OOO\n",
      "YYY RRR WWW OOO\n",
      "        BBB\n",
      "        BBB\n",
      "        BBB\n",
      "edge0 1.0\n",
      "edge2 1.0\n",
      "edge3 1.0\n"
     ]
    },
    {
     "data": {
      "text/plain": [
       "3.0"
      ]
     },
     "execution_count": 8,
     "metadata": {},
     "output_type": "execute_result"
    }
   ],
   "source": [
    "cube3 = rubik_cube(id = 3)\n",
    "opts = [[\"R\", 2], [\"U\", 1], [\"R\", 1], [\"U\", 1], [\"R\", 3], [\"U\", 3], [\"R\", 3], [\"U\", 3], [\"R\", 3], [\"U\", 1], [\"R\",3]]\n",
    "for opt, stride in opts:\n",
    "    cube3.remote(opt=opt, stride=stride)\n",
    "    \n",
    "cube3.visualize()\n",
    "loss.naive_loss(cube3)"
   ]
  },
  {
   "cell_type": "code",
   "execution_count": 9,
   "metadata": {},
   "outputs": [
    {
     "name": "stdout",
     "output_type": "stream",
     "text": [
      "        GGG\n",
      "        GGO\n",
      "        YGO\n",
      "YYR GRG WGR WWO\n",
      "YYY RRW RWW OOO\n",
      "YYY RRR WWW OOO\n",
      "        BBB\n",
      "        BBB\n",
      "        BBB\n",
      "corner0 1.0\n",
      "corner1 1.0\n",
      "corner3 2.0\n",
      "edge0 1.0\n",
      "edge1 2.0\n",
      "edge8 3.0\n"
     ]
    },
    {
     "data": {
      "text/plain": [
       "10.0"
      ]
     },
     "execution_count": 9,
     "metadata": {},
     "output_type": "execute_result"
    }
   ],
   "source": [
    "cube4 = rubik_cube(id=4)\n",
    "opts = [[\"R\", 1], [\"U\", 2], [\"R\", 3], [\"U\", 1], [\"R\", 1], [\"U\", 2], [\"R\", 3], [\"U\", 1], [\"F\", 3], [\"U\", 3], [\"F\", 1]]\n",
    "for opt, stride in opts:\n",
    "    cube4.remote(opt=opt, stride=stride)\n",
    "    \n",
    "cube4.visualize()\n",
    "loss.naive_loss(cube4)"
   ]
  },
  {
   "cell_type": "code",
   "execution_count": null,
   "metadata": {},
   "outputs": [],
   "source": []
  }
 ],
 "metadata": {
  "kernelspec": {
   "display_name": "Python 3",
   "language": "python",
   "name": "python3"
  },
  "language_info": {
   "codemirror_mode": {
    "name": "ipython",
    "version": 3
   },
   "file_extension": ".py",
   "mimetype": "text/x-python",
   "name": "python",
   "nbconvert_exporter": "python",
   "pygments_lexer": "ipython3",
   "version": "3.7.1"
  }
 },
 "nbformat": 4,
 "nbformat_minor": 2
}
